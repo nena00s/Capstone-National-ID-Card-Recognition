{
  "metadata": {
    "kernelspec": {
      "language": "python",
      "display_name": "Python 3",
      "name": "python3"
    },
    "language_info": {
      "pygments_lexer": "ipython3",
      "nbconvert_exporter": "python",
      "version": "3.6.4",
      "file_extension": ".py",
      "codemirror_mode": {
        "name": "ipython",
        "version": 3
      },
      "name": "python",
      "mimetype": "text/x-python"
    },
    "colab": {
      "provenance": [],
      "include_colab_link": true
    }
  },
  "nbformat_minor": 0,
  "nbformat": 4,
  "cells": [
    {
      "cell_type": "markdown",
      "metadata": {
        "id": "view-in-github",
        "colab_type": "text"
      },
      "source": [
        "<a href=\"https://colab.research.google.com/github/nena00s/Capstone-National-ID-Card-Recognition/blob/main/National_ID_Card_Recognition.ipynb\" target=\"_parent\"><img src=\"https://colab.research.google.com/assets/colab-badge.svg\" alt=\"Open In Colab\"/></a>"
      ]
    },
    {
      "cell_type": "code",
      "source": [
        "import cv2\n",
        "import pytesseract\n",
        "import os\n",
        "import pandas as pd\n",
        "import re"
      ],
      "metadata": {
        "_uuid": "8f2839f25d086af736a60e9eeb907d3b93b6e0e5",
        "_cell_guid": "b1076dfc-b9ad-4769-8c92-a6c4dae69d19",
        "execution": {
          "iopub.status.busy": "2023-09-30T20:46:05.274677Z",
          "iopub.execute_input": "2023-09-30T20:46:05.274996Z",
          "iopub.status.idle": "2023-09-30T20:46:05.279759Z",
          "shell.execute_reply.started": "2023-09-30T20:46:05.274968Z",
          "shell.execute_reply": "2023-09-30T20:46:05.278744Z"
        },
        "trusted": true,
        "id": "xNfnc7T1lo0m"
      },
      "execution_count": null,
      "outputs": []
    },
    {
      "cell_type": "markdown",
      "source": [
        "    Define a function to extract text from an image using Tesseract OCR"
      ],
      "metadata": {
        "id": "OgN3UcnQlo0n"
      }
    },
    {
      "cell_type": "code",
      "source": [
        "def extract_text_from_image(image_path):\n",
        "    try:\n",
        "        # Read the image using OpenCV\n",
        "        img = cv2.imread(image_path)\n",
        "\n",
        "        # Preprocess the image (grayscale, noise reduction, etc.)\n",
        "        gray = cv2.cvtColor(img, cv2.COLOR_BGR2GRAY)\n",
        "        # Apply additional preprocessing steps as needed\n",
        "\n",
        "        # Use Tesseract OCR to extract text\n",
        "        text = pytesseract.image_to_string(gray, lang='eng')\n",
        "\n",
        "        return text.strip()  # Remove leading/trailing whitespace\n",
        "    except Exception as e:\n",
        "        return str(e)"
      ],
      "metadata": {
        "execution": {
          "iopub.status.busy": "2023-09-30T20:22:57.128349Z",
          "iopub.execute_input": "2023-09-30T20:22:57.128698Z",
          "iopub.status.idle": "2023-09-30T20:22:57.133761Z",
          "shell.execute_reply.started": "2023-09-30T20:22:57.128673Z",
          "shell.execute_reply": "2023-09-30T20:22:57.132918Z"
        },
        "trusted": true,
        "id": "ZZv6VUaSlo0o"
      },
      "execution_count": null,
      "outputs": []
    },
    {
      "cell_type": "markdown",
      "source": [
        "    Define a function to parse the extracted text and create a DataFrame"
      ],
      "metadata": {
        "id": "PnYNXlZ9lo0p"
      }
    },
    {
      "cell_type": "code",
      "source": [
        "def text_to_dataframe(text):\n",
        "    data = {\n",
        "        'Field': [],\n",
        "        'Value': []\n",
        "    }\n",
        "\n",
        "    lines = text.split('\\n')\n",
        "\n",
        "    for line in lines:\n",
        "        if not line.strip():\n",
        "            continue\n",
        "\n",
        "        # Use regular expressions to extract fields and values\n",
        "        match = re.match(r'(\\w+)\\s+(.+)', line)\n",
        "        if match:\n",
        "            field, value = match.groups()\n",
        "            data['Field'].append(field.strip())\n",
        "            data['Value'].append(value.strip())\n",
        "\n",
        "    df = pd.DataFrame(data)\n",
        "    return df"
      ],
      "metadata": {
        "execution": {
          "iopub.status.busy": "2023-09-30T20:53:06.129991Z",
          "iopub.execute_input": "2023-09-30T20:53:06.130409Z",
          "iopub.status.idle": "2023-09-30T20:53:06.136632Z",
          "shell.execute_reply.started": "2023-09-30T20:53:06.130361Z",
          "shell.execute_reply": "2023-09-30T20:53:06.135474Z"
        },
        "trusted": true,
        "id": "YEl-v6Rilo0p"
      },
      "execution_count": null,
      "outputs": []
    },
    {
      "cell_type": "markdown",
      "source": [
        "    Main function :"
      ],
      "metadata": {
        "id": "QEDffOWvlo0q"
      }
    },
    {
      "cell_type": "code",
      "source": [
        "def ID_Recognition() :\n",
        "    df = pd.DataFrame()\n",
        "    while True:\n",
        "        # Ask the user to enter the path of an the image\n",
        "        image_path = input(\"Enter the path of the image (or 'exit' to quit): \")\n",
        "\n",
        "        if image_path.lower() == 'exit':\n",
        "            break\n",
        "\n",
        "        # Check if the file exists\n",
        "        if not os.path.isfile(image_path):\n",
        "            print(\"Error: The specified file does not exist. Please try again.\")\n",
        "            continue\n",
        "\n",
        "        # Extract text from the image\n",
        "        extracted_text = extract_text_from_image(image_path)\n",
        "\n",
        "        # Check if text was successfully extracted\n",
        "        if extracted_text:\n",
        "            # Print the extracted text\n",
        "            print(\"Extracted Text:\")\n",
        "            print(extracted_text)\n",
        "            df = text_to_dataframe(extracted_text)\n",
        "            break\n",
        "        else:\n",
        "            print(\"No text detected in the image. Please try another image.\")\n",
        "    return df\n"
      ],
      "metadata": {
        "execution": {
          "iopub.status.busy": "2023-09-30T20:55:04.826979Z",
          "iopub.execute_input": "2023-09-30T20:55:04.827644Z",
          "iopub.status.idle": "2023-09-30T20:55:04.833637Z",
          "shell.execute_reply.started": "2023-09-30T20:55:04.827615Z",
          "shell.execute_reply": "2023-09-30T20:55:04.832595Z"
        },
        "trusted": true,
        "id": "2X0dV9ywlo0q"
      },
      "execution_count": null,
      "outputs": []
    },
    {
      "cell_type": "code",
      "source": [
        "ID_Recognition()"
      ],
      "metadata": {
        "execution": {
          "iopub.status.busy": "2023-09-30T20:57:15.319896Z",
          "iopub.execute_input": "2023-09-30T20:57:15.32025Z",
          "iopub.status.idle": "2023-09-30T20:57:20.264531Z",
          "shell.execute_reply.started": "2023-09-30T20:57:15.320223Z",
          "shell.execute_reply": "2023-09-30T20:57:20.263675Z"
        },
        "trusted": true,
        "id": "hhSSANi3lo0r"
      },
      "execution_count": null,
      "outputs": []
    },
    {
      "cell_type": "code",
      "source": [],
      "metadata": {
        "id": "Y5QFkOEFlo0r"
      },
      "execution_count": null,
      "outputs": []
    }
  ]
}